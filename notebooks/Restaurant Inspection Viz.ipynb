{
 "cells": [
  {
   "cell_type": "code",
   "execution_count": 1,
   "metadata": {},
   "outputs": [],
   "source": [
    "import numpy as np\n",
    "import pandas as pd\n",
    "from src.fetch import fetch_restaurant_inspection_data"
   ]
  },
  {
   "cell_type": "code",
   "execution_count": 2,
   "metadata": {},
   "outputs": [
    {
     "name": "stdout",
     "output_type": "stream",
     "text": [
      "/home/cole/Documents/BDS/bds-final-project\n"
     ]
    }
   ],
   "source": [
    "%cd ..\n",
    "df = fetch_restaurant_inspection_data()"
   ]
  },
  {
   "cell_type": "code",
   "execution_count": 3,
   "metadata": {},
   "outputs": [],
   "source": [
    "df = df.loc[pd.to_numeric(df['inspection_year']) != 1900]"
   ]
  },
  {
   "cell_type": "code",
   "execution_count": 4,
   "metadata": {},
   "outputs": [],
   "source": [
    "ids = ['camis', 'dba', 'boro', 'building', 'street', 'zip', 'phone', \n",
    "       'inspection_year', 'inspection_month', 'inspection_day']"
   ]
  },
  {
   "cell_type": "code",
   "execution_count": 5,
   "metadata": {},
   "outputs": [
    {
     "data": {
      "text/plain": [
       "Index(['camis', 'dba', 'boro', 'building', 'street', 'zip', 'phone',\n",
       "       'cuisine_description', 'critical_flag', 'score', 'grade', 'is_closed',\n",
       "       'violation_count', 'inspection_year', 'inspection_month',\n",
       "       'inspection_day', 'total_inspections', 'violation_ratio'],\n",
       "      dtype='object')"
      ]
     },
     "execution_count": 5,
     "metadata": {},
     "output_type": "execute_result"
    }
   ],
   "source": [
    "df.columns"
   ]
  },
  {
   "cell_type": "code",
   "execution_count": 30,
   "metadata": {},
   "outputs": [],
   "source": [
    "dfdd = df.drop(ids, 1)\n",
    "dfdd = dfdd.dropna()"
   ]
  },
  {
   "cell_type": "code",
   "execution_count": 31,
   "metadata": {},
   "outputs": [],
   "source": [
    "from sklearn.preprocessing import LabelEncoder\n",
    "cuisine_labels = LabelEncoder().fit_transform(df['cuisine_description'])\n",
    "is_closed_labels = np.where(df['is_closed'], 1, 0)"
   ]
  },
  {
   "cell_type": "code",
   "execution_count": 32,
   "metadata": {},
   "outputs": [],
   "source": [
    "from sklearn.preprocessing import LabelEncoder\n",
    "cuisine_labels = LabelEncoder().fit_transform(dfdd['cuisine_description'])\n",
    "is_closed_labels = np.where(dfdd['is_closed'], 1, 0)\n",
    "\n",
    "dfdd = dfdd.drop(['cuisine_description', 'is_closed'], 1)"
   ]
  },
  {
   "cell_type": "code",
   "execution_count": 44,
   "metadata": {},
   "outputs": [],
   "source": [
    "from sklearn.utils import resample\n",
    "\n",
    "dfdd['closed'] = is_closed_labels\n",
    "open_downsample = dfdd.loc[dfdd['closed'] == 0].sample(sum(is_closed_labels))\n",
    "s = pd.concat([open_downsample, dfdd.loc[dfdd['closed'] == 1]])\n",
    "\n",
    "dfdd = resample(s, n_samples=2000)\n",
    "\n",
    "# dfdd, is_closed_samples = resample(dfdd, is_closed_labels, n_samples=10000)"
   ]
  },
  {
   "cell_type": "code",
   "execution_count": null,
   "metadata": {},
   "outputs": [],
   "source": [
    "is_closed_labels = dfdd['closed']"
   ]
  },
  {
   "cell_type": "code",
   "execution_count": 47,
   "metadata": {},
   "outputs": [],
   "source": [
    "dfdd = dfdd.drop('closed', 1)"
   ]
  },
  {
   "cell_type": "code",
   "execution_count": 48,
   "metadata": {},
   "outputs": [],
   "source": [
    "from sklearn.decomposition import PCA\n",
    "from sklearn.manifold import TSNE\n",
    "# p = PCA(n_components=2)\n",
    "p = TSNE(n_components=3)\n",
    "pca = p.fit_transform(dfdd)"
   ]
  },
  {
   "cell_type": "code",
   "execution_count": 55,
   "metadata": {},
   "outputs": [
    {
     "data": {
      "image/png": "[encoded data removed]",
      "text/plain": [
       "<Figure size 432x288 with 1 Axes>"
      ]
     },
     "metadata": {
      "needs_background": "light"
     },
     "output_type": "display_data"
    }
   ],
   "source": [
    "# %matplotlib inline\n",
    "from matplotlib import pyplot as plt\n",
    "\n",
    "plt.scatter(pca[:,0], pca[:,1], pca[:,2], alpha=0.3)\n",
    "plt.show()"
   ]
  },
  {
   "cell_type": "code",
   "execution_count": 118,
   "metadata": {},
   "outputs": [],
   "source": [
    "from sklearn.ensemble import GradientBoostingClassifier\n",
    "gbm = GradientBoostingClassifier(n_estimators=300, learning_rate=0.4)"
   ]
  },
  {
   "cell_type": "code",
   "execution_count": 124,
   "metadata": {},
   "outputs": [],
   "source": [
    "from sklearn.model_selection import train_test_split\n",
    "X_train, X_test, y_train, y_test = train_test_split(dfdd.drop(['score', 'violation_count', 'total_inspections'], 1), is_closed_labels)"
   ]
  },
  {
   "cell_type": "code",
   "execution_count": 125,
   "metadata": {},
   "outputs": [
    {
     "data": {
      "text/plain": [
       "GradientBoostingClassifier(criterion='friedman_mse', init=None,\n",
       "              learning_rate=0.4, loss='deviance', max_depth=3,\n",
       "              max_features=None, max_leaf_nodes=None,\n",
       "              min_impurity_decrease=0.0, min_impurity_split=None,\n",
       "              min_samples_leaf=1, min_samples_split=2,\n",
       "              min_weight_fraction_leaf=0.0, n_estimators=300,\n",
       "              n_iter_no_change=None, presort='auto', random_state=None,\n",
       "              subsample=1.0, tol=0.0001, validation_fraction=0.1,\n",
       "              verbose=0, warm_start=False)"
      ]
     },
     "execution_count": 125,
     "metadata": {},
     "output_type": "execute_result"
    }
   ],
   "source": [
    "gbm.fit(X_train, y_train)"
   ]
  },
  {
   "cell_type": "code",
   "execution_count": 126,
   "metadata": {},
   "outputs": [
    {
     "data": {
      "text/plain": [
       "array([[6156,   15],\n",
       "       [  19,    0]])"
      ]
     },
     "execution_count": 126,
     "metadata": {},
     "output_type": "execute_result"
    }
   ],
   "source": [
    "from sklearn.metrics import confusion_matrix\n",
    "confusion_matrix(y_test, gbm.predict(X_test))"
   ]
  },
  {
   "cell_type": "code",
   "execution_count": 22,
   "metadata": {},
   "outputs": [],
   "source": [
    "dfdd['closed'] = is_closed_labels\n",
    "violations_closed = dfdd.loc[dfdd['closed'] == 1]['violation_count']"
   ]
  },
  {
   "cell_type": "code",
   "execution_count": 23,
   "metadata": {},
   "outputs": [],
   "source": [
    "violations_open = dfdd.loc[dfdd['closed'] == 0]['violation_count']"
   ]
  },
  {
   "cell_type": "code",
   "execution_count": 30,
   "metadata": {},
   "outputs": [
    {
     "name": "stderr",
     "output_type": "stream",
     "text": [
      "/home/cole/.anaconda/lib/python3.7/site-packages/sklearn/utils/validation.py:595: DataConversionWarning: Data with input dtype int64 was converted to float64 by MinMaxScaler.\n",
      "  warnings.warn(msg, DataConversionWarning)\n",
      "/home/cole/.anaconda/lib/python3.7/site-packages/sklearn/utils/validation.py:595: DataConversionWarning: Data with input dtype int64 was converted to float64 by MinMaxScaler.\n",
      "  warnings.warn(msg, DataConversionWarning)\n"
     ]
    }
   ],
   "source": [
    "from sklearn.preprocessing import MinMaxScaler\n",
    "violations_closed = MinMaxScaler().fit_transform(np.array(violations_closed).reshape(-1, 1))\n",
    "violations_open = MinMaxScaler().fit_transform(np.array(violations_open).reshape(-1, 1))"
   ]
  },
  {
   "cell_type": "code",
   "execution_count": 32,
   "metadata": {},
   "outputs": [
    {
     "data": {
      "image/png": "[encoded data removed]",
      "text/plain": [
       "<Figure size 432x288 with 1 Axes>"
      ]
     },
     "metadata": {
      "needs_background": "light"
     },
     "output_type": "display_data"
    }
   ],
   "source": [
    "%matplotlib inline\n",
    "from matplotlib import pyplot\n",
    "x = violations_open\n",
    "y =violations_closed\n",
    "\n",
    "bins = np.linspace(-1.0, 1.0, 100)\n",
    "\n",
    "pyplot.hist(x, bins, alpha=0.5, label='closed')\n",
    "pyplot.hist(y, bins, alpha=0.5, label='open')\n",
    "pyplot.legend(loc='upper right')\n",
    "pyplot.show()"
   ]
  },
  {
   "cell_type": "code",
   "execution_count": 25,
   "metadata": {},
   "outputs": [
    {
     "data": {
      "text/html": [
       "<div>\n",
       "<style scoped>\n",
       "    .dataframe tbody tr th:only-of-type {\n",
       "        vertical-align: middle;\n",
       "    }\n",
       "\n",
       "    .dataframe tbody tr th {\n",
       "        vertical-align: top;\n",
       "    }\n",
       "\n",
       "    .dataframe thead th {\n",
       "        text-align: right;\n",
       "    }\n",
       "</style>\n",
       "<table border=\"1\" class=\"dataframe\">\n",
       "  <thead>\n",
       "    <tr style=\"text-align: right;\">\n",
       "      <th></th>\n",
       "      <th>critical_flag</th>\n",
       "      <th>score</th>\n",
       "      <th>grade</th>\n",
       "      <th>violation_count</th>\n",
       "      <th>total_inspections</th>\n",
       "      <th>violation_ratio</th>\n",
       "      <th>closed</th>\n",
       "    </tr>\n",
       "  </thead>\n",
       "  <tbody>\n",
       "    <tr>\n",
       "      <th>critical_flag</th>\n",
       "      <td>1.000000</td>\n",
       "      <td>0.640059</td>\n",
       "      <td>-0.544126</td>\n",
       "      <td>0.962015</td>\n",
       "      <td>0.962327</td>\n",
       "      <td>-0.022775</td>\n",
       "      <td>0.073821</td>\n",
       "    </tr>\n",
       "    <tr>\n",
       "      <th>score</th>\n",
       "      <td>0.640059</td>\n",
       "      <td>1.000000</td>\n",
       "      <td>-0.491202</td>\n",
       "      <td>0.603438</td>\n",
       "      <td>0.607867</td>\n",
       "      <td>-0.020494</td>\n",
       "      <td>0.122955</td>\n",
       "    </tr>\n",
       "    <tr>\n",
       "      <th>grade</th>\n",
       "      <td>-0.544126</td>\n",
       "      <td>-0.491202</td>\n",
       "      <td>1.000000</td>\n",
       "      <td>-0.519731</td>\n",
       "      <td>-0.525445</td>\n",
       "      <td>0.065615</td>\n",
       "      <td>-0.067316</td>\n",
       "    </tr>\n",
       "    <tr>\n",
       "      <th>violation_count</th>\n",
       "      <td>0.962015</td>\n",
       "      <td>0.603438</td>\n",
       "      <td>-0.519731</td>\n",
       "      <td>1.000000</td>\n",
       "      <td>0.997729</td>\n",
       "      <td>-0.002612</td>\n",
       "      <td>0.070000</td>\n",
       "    </tr>\n",
       "    <tr>\n",
       "      <th>total_inspections</th>\n",
       "      <td>0.962327</td>\n",
       "      <td>0.607867</td>\n",
       "      <td>-0.525445</td>\n",
       "      <td>0.997729</td>\n",
       "      <td>1.000000</td>\n",
       "      <td>-0.048220</td>\n",
       "      <td>0.070803</td>\n",
       "    </tr>\n",
       "    <tr>\n",
       "      <th>violation_ratio</th>\n",
       "      <td>-0.022775</td>\n",
       "      <td>-0.020494</td>\n",
       "      <td>0.065615</td>\n",
       "      <td>-0.002612</td>\n",
       "      <td>-0.048220</td>\n",
       "      <td>1.000000</td>\n",
       "      <td>-0.007936</td>\n",
       "    </tr>\n",
       "    <tr>\n",
       "      <th>closed</th>\n",
       "      <td>0.073821</td>\n",
       "      <td>0.122955</td>\n",
       "      <td>-0.067316</td>\n",
       "      <td>0.070000</td>\n",
       "      <td>0.070803</td>\n",
       "      <td>-0.007936</td>\n",
       "      <td>1.000000</td>\n",
       "    </tr>\n",
       "  </tbody>\n",
       "</table>\n",
       "</div>"
      ],
      "text/plain": [
       "                   critical_flag     score     grade  violation_count  \\\n",
       "critical_flag           1.000000  0.640059 -0.544126         0.962015   \n",
       "score                   0.640059  1.000000 -0.491202         0.603438   \n",
       "grade                  -0.544126 -0.491202  1.000000        -0.519731   \n",
       "violation_count         0.962015  0.603438 -0.519731         1.000000   \n",
       "total_inspections       0.962327  0.607867 -0.525445         0.997729   \n",
       "violation_ratio        -0.022775 -0.020494  0.065615        -0.002612   \n",
       "closed                  0.073821  0.122955 -0.067316         0.070000   \n",
       "\n",
       "                   total_inspections  violation_ratio    closed  \n",
       "critical_flag               0.962327        -0.022775  0.073821  \n",
       "score                       0.607867        -0.020494  0.122955  \n",
       "grade                      -0.525445         0.065615 -0.067316  \n",
       "violation_count             0.997729        -0.002612  0.070000  \n",
       "total_inspections           1.000000        -0.048220  0.070803  \n",
       "violation_ratio            -0.048220         1.000000 -0.007936  \n",
       "closed                      0.070803        -0.007936  1.000000  "
      ]
     },
     "execution_count": 25,
     "metadata": {},
     "output_type": "execute_result"
    }
   ],
   "source": [
    "dfdd.corr()"
   ]
  },
  {
   "cell_type": "code",
   "execution_count": null,
   "metadata": {},
   "outputs": [],
   "source": []
  }
 ],
 "metadata": {
  "kernelspec": {
   "display_name": "Python 3",
   "language": "python",
   "name": "python3"
  },
  "language_info": {
   "codemirror_mode": {
    "name": "ipython",
    "version": 3
   },
   "file_extension": ".py",
   "mimetype": "text/x-python",
   "name": "python",
   "nbconvert_exporter": "python",
   "pygments_lexer": "ipython3",
   "version": "3.7.1"
  }
 },
 "nbformat": 4,
 "nbformat_minor": 1
}
